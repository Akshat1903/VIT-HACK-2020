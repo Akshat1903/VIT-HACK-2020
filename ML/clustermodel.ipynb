{
  "nbformat": 4,
  "nbformat_minor": 0,
  "metadata": {
    "colab": {
      "name": "clustermodel.ipynb",
      "provenance": [],
      "authorship_tag": "ABX9TyOhATzocp0mcPJs8HHPt/Ly"
    },
    "kernelspec": {
      "name": "python3",
      "display_name": "Python 3"
    },
    "accelerator": "GPU"
  },
  "cells": [
    {
      "cell_type": "code",
      "metadata": {
        "id": "JzydlAGGpz2J"
      },
      "source": [
        "import numpy as np # linear algebra\n",
        "import pandas as pd # data processing, CSV file I/O (e.g. pd.read_csv)\n",
        "from sklearn.cluster import KMeans \n",
        "from sklearn.feature_extraction.text import TfidfVectorizer\n",
        "from sklearn.decomposition import PCA\n",
        "from sklearn.preprocessing import normalize\n",
        "from sklearn.metrics import pairwise_distances"
      ],
      "execution_count": 12,
      "outputs": []
    },
    {
      "cell_type": "code",
      "metadata": {
        "id": "bvEjaqFgxyKQ"
      },
      "source": [
        "\n",
        "import nltk\n",
        "import string\n",
        "\n",
        "import matplotlib.pyplot as plt\n",
        "%matplotlib inline\n",
        "\n",
        "import os, sys"
      ],
      "execution_count": 13,
      "outputs": []
    },
    {
      "cell_type": "code",
      "metadata": {
        "id": "x22WVbojyNdo",
        "outputId": "c4704ac8-c227-4b24-82c0-cef6391b862e",
        "colab": {
          "base_uri": "https://localhost:8080/",
          "height": 34
        }
      },
      "source": [
        "covid_data = pd.read_csv(\"covid19india.csv\")\n",
        "covid_data.shape"
      ],
      "execution_count": 20,
      "outputs": [
        {
          "output_type": "execute_result",
          "data": {
            "text/plain": [
              "(27891, 11)"
            ]
          },
          "metadata": {
            "tags": []
          },
          "execution_count": 20
        }
      ]
    },
    {
      "cell_type": "code",
      "metadata": {
        "id": "bqtW4KCAzonO"
      },
      "source": [
        "class Kmeans:\n",
        "    \"\"\" K Means Clustering\n",
        "    \n",
        "    Parameters\n",
        "    -----------\n",
        "        k: int , number of clusters\n",
        "        \n",
        "        seed: int, will be randomly set if None\n",
        "        \n",
        "        max_iter: int, number of iterations to run algorithm, default: 200\n",
        "        \n",
        "    Attributes\n",
        "    -----------\n",
        "       centroids: array, k, number_features\n",
        "       \n",
        "       cluster_labels: label for each data point\n",
        "       \n",
        "    \"\"\"\n",
        "    \n",
        "    def __init__(self, k, seed = None, max_iter = 200):\n",
        "        self.k = k\n",
        "        self.seed = seed\n",
        "        if self.seed is not None:\n",
        "            np.random.seed(self.seed)\n",
        "        self.max_iter = max_iter\n",
        "        \n",
        "            \n",
        "    \n",
        "    def initialise_centroids(self, data):\n",
        "        \"\"\"Randomly Initialise Centroids\n",
        "        \n",
        "        Parameters\n",
        "        ----------\n",
        "        data: array or matrix, number_rows, number_features\n",
        "        \n",
        "        Returns\n",
        "        --------\n",
        "        centroids: array of k centroids chosen as random data points \n",
        "        \"\"\"\n",
        "        \n",
        "        initial_centroids = np.random.permutation(data.shape[0])[:self.k]\n",
        "        self.centroids = data[initial_centroids]\n",
        "\n",
        "        return self.centroids\n",
        "    \n",
        "    \n",
        "    def assign_clusters(self, data):\n",
        "        \"\"\"Compute distance of data from clusters and assign data point\n",
        "           to closest cluster.\n",
        "        \n",
        "        Parameters\n",
        "        ----------\n",
        "        data: array or matrix, number_rows, number_features\n",
        "        \n",
        "        Returns\n",
        "        --------\n",
        "        cluster_labels: index which minmises the distance of data to each\n",
        "        cluster\n",
        "            \n",
        "        \"\"\"\n",
        "        \n",
        "        if data.ndim == 1:\n",
        "            data = data.reshape(-1, 1)\n",
        "        \n",
        "        dist_to_centroid =  pairwise_distances(data, self.centroids, metric = 'euclidean')\n",
        "        self.cluster_labels = np.argmin(dist_to_centroid, axis = 1)\n",
        "        \n",
        "        return  self.cluster_labels\n",
        "    \n",
        "    \n",
        "    def update_centroids(self, data):\n",
        "        \"\"\"Computes average of all data points in cluster and\n",
        "           assigns new centroids as average of data points\n",
        "        \n",
        "        Parameters\n",
        "        -----------\n",
        "        data: array or matrix, number_rows, number_features\n",
        "        \n",
        "        Returns\n",
        "        -----------\n",
        "        centroids: array, k, number_features\n",
        "        \"\"\"\n",
        "        \n",
        "        self.centroids = np.array([data[self.cluster_labels == i].mean(axis = 0) for i in range(self.k)])\n",
        "        \n",
        "        return self.centroids\n",
        "    \n",
        "    \n",
        "    \n",
        "    def predict(self, data):\n",
        "        \"\"\"Predict which cluster data point belongs to\n",
        "        \n",
        "        Parameters\n",
        "        ----------\n",
        "        data: array or matrix, number_rows, number_features\n",
        "        \n",
        "        Returns\n",
        "        --------\n",
        "        cluster_labels: index which minmises the distance of data to each\n",
        "        cluster\n",
        "        \"\"\"\n",
        "        \n",
        "        return self.assign_clusters(data)\n",
        "    \n",
        "    def fit_kmeans(self, data):\n",
        "        \"\"\"\n",
        "        This function contains the main loop to fit the algorithm\n",
        "        Implements initialise centroids and update_centroids\n",
        "        according to max_iter\n",
        "        -----------------------\n",
        "        \n",
        "        Returns\n",
        "        -------\n",
        "        instance of kmeans class\n",
        "            \n",
        "        \"\"\"\n",
        "        self.centroids = self.initialise_centroids(data)\n",
        "        \n",
        "        # Main kmeans loop\n",
        "        for iter in range(self.max_iter):\n",
        "\n",
        "            self.cluster_labels = self.assign_clusters(data)\n",
        "            self.centroids = self.update_centroids(data)          \n",
        "            if iter % 100 == 0:\n",
        "                print(\"Running Model Iteration %d \" %iter)\n",
        "        print(\"Model finished running\")\n",
        "        return self   "
      ],
      "execution_count": 19,
      "outputs": []
    },
    {
      "cell_type": "code",
      "metadata": {
        "id": "wizIYBCF0v1C"
      },
      "source": [
        ""
      ],
      "execution_count": null,
      "outputs": []
    }
  ]
}