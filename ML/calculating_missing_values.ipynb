{
  "nbformat": 4,
  "nbformat_minor": 0,
  "metadata": {
    "colab": {
      "name": "calculating missing values.ipynb",
      "provenance": [],
      "collapsed_sections": [],
      "authorship_tag": "ABX9TyMRPAVCPEwIXGDLIAb50n5d",
      "include_colab_link": true
    },
    "kernelspec": {
      "name": "python3",
      "display_name": "Python 3"
    }
  },
  "cells": [
    {
      "cell_type": "markdown",
      "metadata": {
        "id": "view-in-github",
        "colab_type": "text"
      },
      "source": [
        "<a href=\"https://colab.research.google.com/github/Shubh0405/VIThack20-Covid19Website/blob/Task4/calculating_missing_values.ipynb\" target=\"_parent\"><img src=\"https://colab.research.google.com/assets/colab-badge.svg\" alt=\"Open In Colab\"/></a>"
      ]
    },
    {
      "cell_type": "code",
      "metadata": {
        "id": "3BnFPYTLuJHZ"
      },
      "source": [
        "import pandas as pd\n",
        "import numpy as np\n",
        "import matplotlib.pyplot as plt\n",
        "%matplotlib inline \n",
        "import seaborn as sns"
      ],
      "execution_count": 208,
      "outputs": []
    },
    {
      "cell_type": "code",
      "metadata": {
        "id": "3HMOR-Z2vPhN"
      },
      "source": [
        "df = pd.read_csv(\"covid19india.csv\")"
      ],
      "execution_count": 209,
      "outputs": []
    },
    {
      "cell_type": "code",
      "metadata": {
        "id": "bl4j6XWmvvuG"
      },
      "source": [
        "df_train = df.copy()"
      ],
      "execution_count": 210,
      "outputs": []
    },
    {
      "cell_type": "code",
      "metadata": {
        "id": "LEbLiBJ8wD3z",
        "outputId": "08f8a9ae-af62-4cb2-f3de-0207d6e80834",
        "colab": {
          "base_uri": "https://localhost:8080/",
          "height": 548
        }
      },
      "source": [
        "df_train.info()\n",
        "df.head(5)"
      ],
      "execution_count": 212,
      "outputs": [
        {
          "output_type": "stream",
          "text": [
            "<class 'pandas.core.frame.DataFrame'>\n",
            "RangeIndex: 27891 entries, 0 to 27890\n",
            "Data columns (total 11 columns):\n",
            " #   Column          Non-Null Count  Dtype  \n",
            "---  ------          --------------  -----  \n",
            " 0   patientId       27891 non-null  int64  \n",
            " 1   reportedOn      27891 non-null  object \n",
            " 2   onsetEstimate   0 non-null      float64\n",
            " 3   ageEstimate     2346 non-null   object \n",
            " 4   gender          5313 non-null   object \n",
            " 5   city            2350 non-null   object \n",
            " 6   district        21051 non-null  object \n",
            " 7   state           27890 non-null  object \n",
            " 8   status          27891 non-null  object \n",
            " 9   notes           26555 non-null  object \n",
            " 10  contractedFrom  1638 non-null   object \n",
            "dtypes: float64(1), int64(1), object(9)\n",
            "memory usage: 2.3+ MB\n"
          ],
          "name": "stdout"
        },
        {
          "output_type": "execute_result",
          "data": {
            "text/html": [
              "<div>\n",
              "<style scoped>\n",
              "    .dataframe tbody tr th:only-of-type {\n",
              "        vertical-align: middle;\n",
              "    }\n",
              "\n",
              "    .dataframe tbody tr th {\n",
              "        vertical-align: top;\n",
              "    }\n",
              "\n",
              "    .dataframe thead th {\n",
              "        text-align: right;\n",
              "    }\n",
              "</style>\n",
              "<table border=\"1\" class=\"dataframe\">\n",
              "  <thead>\n",
              "    <tr style=\"text-align: right;\">\n",
              "      <th></th>\n",
              "      <th>patientId</th>\n",
              "      <th>reportedOn</th>\n",
              "      <th>onsetEstimate</th>\n",
              "      <th>ageEstimate</th>\n",
              "      <th>gender</th>\n",
              "      <th>city</th>\n",
              "      <th>district</th>\n",
              "      <th>state</th>\n",
              "      <th>status</th>\n",
              "      <th>notes</th>\n",
              "      <th>contractedFrom</th>\n",
              "    </tr>\n",
              "  </thead>\n",
              "  <tbody>\n",
              "    <tr>\n",
              "      <th>0</th>\n",
              "      <td>1</td>\n",
              "      <td>30/01/2020</td>\n",
              "      <td>NaN</td>\n",
              "      <td>20</td>\n",
              "      <td>female</td>\n",
              "      <td>Thrissur</td>\n",
              "      <td>Thrissur</td>\n",
              "      <td>Kerala</td>\n",
              "      <td>Recovered</td>\n",
              "      <td>Travelled from Wuhan</td>\n",
              "      <td>NaN</td>\n",
              "    </tr>\n",
              "    <tr>\n",
              "      <th>1</th>\n",
              "      <td>2</td>\n",
              "      <td>02/02/2020</td>\n",
              "      <td>NaN</td>\n",
              "      <td>NaN</td>\n",
              "      <td>NaN</td>\n",
              "      <td>Alappuzha</td>\n",
              "      <td>Alappuzha</td>\n",
              "      <td>Kerala</td>\n",
              "      <td>Recovered</td>\n",
              "      <td>Travelled from Wuhan</td>\n",
              "      <td>NaN</td>\n",
              "    </tr>\n",
              "    <tr>\n",
              "      <th>2</th>\n",
              "      <td>3</td>\n",
              "      <td>03/02/2020</td>\n",
              "      <td>NaN</td>\n",
              "      <td>NaN</td>\n",
              "      <td>NaN</td>\n",
              "      <td>Kasaragod</td>\n",
              "      <td>Kasaragod</td>\n",
              "      <td>Kerala</td>\n",
              "      <td>Recovered</td>\n",
              "      <td>Travelled from Wuhan</td>\n",
              "      <td>NaN</td>\n",
              "    </tr>\n",
              "    <tr>\n",
              "      <th>3</th>\n",
              "      <td>4</td>\n",
              "      <td>02/03/2020</td>\n",
              "      <td>NaN</td>\n",
              "      <td>45</td>\n",
              "      <td>male</td>\n",
              "      <td>East Delhi (Mayur Vihar)</td>\n",
              "      <td>East Delhi</td>\n",
              "      <td>Delhi</td>\n",
              "      <td>Recovered</td>\n",
              "      <td>Travelled from Austria, Italy</td>\n",
              "      <td>NaN</td>\n",
              "    </tr>\n",
              "    <tr>\n",
              "      <th>4</th>\n",
              "      <td>5</td>\n",
              "      <td>02/03/2020</td>\n",
              "      <td>NaN</td>\n",
              "      <td>24</td>\n",
              "      <td>male</td>\n",
              "      <td>Hyderabad</td>\n",
              "      <td>Hyderabad</td>\n",
              "      <td>Telangana</td>\n",
              "      <td>Recovered</td>\n",
              "      <td>Travelled from Dubai to Bangalore on 20th Feb,...</td>\n",
              "      <td>NaN</td>\n",
              "    </tr>\n",
              "  </tbody>\n",
              "</table>\n",
              "</div>"
            ],
            "text/plain": [
              "   patientId  ... contractedFrom\n",
              "0          1  ...            NaN\n",
              "1          2  ...            NaN\n",
              "2          3  ...            NaN\n",
              "3          4  ...            NaN\n",
              "4          5  ...            NaN\n",
              "\n",
              "[5 rows x 11 columns]"
            ]
          },
          "metadata": {
            "tags": []
          },
          "execution_count": 212
        }
      ]
    },
    {
      "cell_type": "code",
      "metadata": {
        "id": "zTW4OW7SwLZV",
        "outputId": "ed429d0d-7691-4887-e3b3-44450727cf45",
        "colab": {
          "base_uri": "https://localhost:8080/",
          "height": 402
        }
      },
      "source": [
        "df_train.isnull()"
      ],
      "execution_count": 213,
      "outputs": [
        {
          "output_type": "execute_result",
          "data": {
            "text/html": [
              "<div>\n",
              "<style scoped>\n",
              "    .dataframe tbody tr th:only-of-type {\n",
              "        vertical-align: middle;\n",
              "    }\n",
              "\n",
              "    .dataframe tbody tr th {\n",
              "        vertical-align: top;\n",
              "    }\n",
              "\n",
              "    .dataframe thead th {\n",
              "        text-align: right;\n",
              "    }\n",
              "</style>\n",
              "<table border=\"1\" class=\"dataframe\">\n",
              "  <thead>\n",
              "    <tr style=\"text-align: right;\">\n",
              "      <th></th>\n",
              "      <th>patientId</th>\n",
              "      <th>reportedOn</th>\n",
              "      <th>onsetEstimate</th>\n",
              "      <th>ageEstimate</th>\n",
              "      <th>gender</th>\n",
              "      <th>city</th>\n",
              "      <th>district</th>\n",
              "      <th>state</th>\n",
              "      <th>status</th>\n",
              "      <th>notes</th>\n",
              "      <th>contractedFrom</th>\n",
              "    </tr>\n",
              "  </thead>\n",
              "  <tbody>\n",
              "    <tr>\n",
              "      <th>0</th>\n",
              "      <td>False</td>\n",
              "      <td>False</td>\n",
              "      <td>True</td>\n",
              "      <td>False</td>\n",
              "      <td>False</td>\n",
              "      <td>False</td>\n",
              "      <td>False</td>\n",
              "      <td>False</td>\n",
              "      <td>False</td>\n",
              "      <td>False</td>\n",
              "      <td>True</td>\n",
              "    </tr>\n",
              "    <tr>\n",
              "      <th>1</th>\n",
              "      <td>False</td>\n",
              "      <td>False</td>\n",
              "      <td>True</td>\n",
              "      <td>True</td>\n",
              "      <td>True</td>\n",
              "      <td>False</td>\n",
              "      <td>False</td>\n",
              "      <td>False</td>\n",
              "      <td>False</td>\n",
              "      <td>False</td>\n",
              "      <td>True</td>\n",
              "    </tr>\n",
              "    <tr>\n",
              "      <th>2</th>\n",
              "      <td>False</td>\n",
              "      <td>False</td>\n",
              "      <td>True</td>\n",
              "      <td>True</td>\n",
              "      <td>True</td>\n",
              "      <td>False</td>\n",
              "      <td>False</td>\n",
              "      <td>False</td>\n",
              "      <td>False</td>\n",
              "      <td>False</td>\n",
              "      <td>True</td>\n",
              "    </tr>\n",
              "    <tr>\n",
              "      <th>3</th>\n",
              "      <td>False</td>\n",
              "      <td>False</td>\n",
              "      <td>True</td>\n",
              "      <td>False</td>\n",
              "      <td>False</td>\n",
              "      <td>False</td>\n",
              "      <td>False</td>\n",
              "      <td>False</td>\n",
              "      <td>False</td>\n",
              "      <td>False</td>\n",
              "      <td>True</td>\n",
              "    </tr>\n",
              "    <tr>\n",
              "      <th>4</th>\n",
              "      <td>False</td>\n",
              "      <td>False</td>\n",
              "      <td>True</td>\n",
              "      <td>False</td>\n",
              "      <td>False</td>\n",
              "      <td>False</td>\n",
              "      <td>False</td>\n",
              "      <td>False</td>\n",
              "      <td>False</td>\n",
              "      <td>False</td>\n",
              "      <td>True</td>\n",
              "    </tr>\n",
              "    <tr>\n",
              "      <th>...</th>\n",
              "      <td>...</td>\n",
              "      <td>...</td>\n",
              "      <td>...</td>\n",
              "      <td>...</td>\n",
              "      <td>...</td>\n",
              "      <td>...</td>\n",
              "      <td>...</td>\n",
              "      <td>...</td>\n",
              "      <td>...</td>\n",
              "      <td>...</td>\n",
              "      <td>...</td>\n",
              "    </tr>\n",
              "    <tr>\n",
              "      <th>27886</th>\n",
              "      <td>False</td>\n",
              "      <td>False</td>\n",
              "      <td>True</td>\n",
              "      <td>True</td>\n",
              "      <td>True</td>\n",
              "      <td>True</td>\n",
              "      <td>True</td>\n",
              "      <td>False</td>\n",
              "      <td>False</td>\n",
              "      <td>False</td>\n",
              "      <td>True</td>\n",
              "    </tr>\n",
              "    <tr>\n",
              "      <th>27887</th>\n",
              "      <td>False</td>\n",
              "      <td>False</td>\n",
              "      <td>True</td>\n",
              "      <td>True</td>\n",
              "      <td>True</td>\n",
              "      <td>True</td>\n",
              "      <td>True</td>\n",
              "      <td>False</td>\n",
              "      <td>False</td>\n",
              "      <td>False</td>\n",
              "      <td>True</td>\n",
              "    </tr>\n",
              "    <tr>\n",
              "      <th>27888</th>\n",
              "      <td>False</td>\n",
              "      <td>False</td>\n",
              "      <td>True</td>\n",
              "      <td>False</td>\n",
              "      <td>False</td>\n",
              "      <td>True</td>\n",
              "      <td>False</td>\n",
              "      <td>False</td>\n",
              "      <td>False</td>\n",
              "      <td>False</td>\n",
              "      <td>True</td>\n",
              "    </tr>\n",
              "    <tr>\n",
              "      <th>27889</th>\n",
              "      <td>False</td>\n",
              "      <td>False</td>\n",
              "      <td>True</td>\n",
              "      <td>False</td>\n",
              "      <td>False</td>\n",
              "      <td>True</td>\n",
              "      <td>False</td>\n",
              "      <td>False</td>\n",
              "      <td>False</td>\n",
              "      <td>False</td>\n",
              "      <td>True</td>\n",
              "    </tr>\n",
              "    <tr>\n",
              "      <th>27890</th>\n",
              "      <td>False</td>\n",
              "      <td>False</td>\n",
              "      <td>True</td>\n",
              "      <td>False</td>\n",
              "      <td>False</td>\n",
              "      <td>True</td>\n",
              "      <td>False</td>\n",
              "      <td>False</td>\n",
              "      <td>False</td>\n",
              "      <td>False</td>\n",
              "      <td>True</td>\n",
              "    </tr>\n",
              "  </tbody>\n",
              "</table>\n",
              "<p>27891 rows × 11 columns</p>\n",
              "</div>"
            ],
            "text/plain": [
              "       patientId  reportedOn  onsetEstimate  ...  status  notes  contractedFrom\n",
              "0          False       False           True  ...   False  False            True\n",
              "1          False       False           True  ...   False  False            True\n",
              "2          False       False           True  ...   False  False            True\n",
              "3          False       False           True  ...   False  False            True\n",
              "4          False       False           True  ...   False  False            True\n",
              "...          ...         ...            ...  ...     ...    ...             ...\n",
              "27886      False       False           True  ...   False  False            True\n",
              "27887      False       False           True  ...   False  False            True\n",
              "27888      False       False           True  ...   False  False            True\n",
              "27889      False       False           True  ...   False  False            True\n",
              "27890      False       False           True  ...   False  False            True\n",
              "\n",
              "[27891 rows x 11 columns]"
            ]
          },
          "metadata": {
            "tags": []
          },
          "execution_count": 213
        }
      ]
    },
    {
      "cell_type": "code",
      "metadata": {
        "id": "Gbp8k4VSxcKr",
        "outputId": "198ad44b-0720-4fc0-e0d6-7f02ee229fdc",
        "colab": {
          "base_uri": "https://localhost:8080/",
          "height": 600
        }
      },
      "source": [
        "plt.figure(figsize=(20,10))\n",
        "sns.heatmap(df_train.isnull(),yticklabels=False,cbar=False,cmap='viridis')"
      ],
      "execution_count": 214,
      "outputs": [
        {
          "output_type": "execute_result",
          "data": {
            "text/plain": [
              "<matplotlib.axes._subplots.AxesSubplot at 0x7f8f5863b2e8>"
            ]
          },
          "metadata": {
            "tags": []
          },
          "execution_count": 214
        },
        {
          "output_type": "display_data",
          "data": {
            "image/png": "[encoded data removed]",
            "text/plain": [
              "<Figure size 1440x720 with 1 Axes>"
            ]
          },
          "metadata": {
            "tags": [],
            "needs_background": "light"
          }
        }
      ]
    },
    {
      "cell_type": "code",
      "metadata": {
        "id": "CY2EFyYnxi_R"
      },
      "source": [
        "df_train.drop('onsetEstimate',axis=1,inplace=True)\n",
        "df_train.drop('contractedFrom',axis=1,inplace=True)\n",
        "df_train.drop('notes',axis=1,inplace=True)"
      ],
      "execution_count": 215,
      "outputs": []
    },
    {
      "cell_type": "code",
      "metadata": {
        "id": "WwBsOQuzxtSH",
        "outputId": "30f738f1-de31-4c2c-ec04-4bd3c3f4f261",
        "colab": {
          "base_uri": "https://localhost:8080/",
          "height": 600
        }
      },
      "source": [
        "plt.figure(figsize=(20,10))\n",
        "sns.heatmap(df_train.isnull(),yticklabels=False,cbar=False,cmap='viridis')"
      ],
      "execution_count": 216,
      "outputs": [
        {
          "output_type": "execute_result",
          "data": {
            "text/plain": [
              "<matplotlib.axes._subplots.AxesSubplot at 0x7f8f623376a0>"
            ]
          },
          "metadata": {
            "tags": []
          },
          "execution_count": 216
        },
        {
          "output_type": "display_data",
          "data": {
            "image/png": "[encoded data removed]",
            "text/plain": [
              "<Figure size 1440x720 with 1 Axes>"
            ]
          },
          "metadata": {
            "tags": [],
            "needs_background": "light"
          }
        }
      ]
    },
    {
      "cell_type": "code",
      "metadata": {
        "id": "RZ-ZRjvExxqH"
      },
      "source": [
        "from sklearn.preprocessing import LabelEncoder\n",
        "df_train.gender = pd.Categorical(df_train.gender)\n",
        "df_train['gender'] = df_train.gender.cat.codes\n",
        "df_train.city = pd.Categorical(df_train.city)\n",
        "df_train['city'] = df_train.city.cat.codes\n",
        "\n",
        "df_train.district = pd.Categorical(df_train.district)\n",
        "df_train['district'] = df_train.district.cat.codes\n",
        "\n",
        "df_train.state = pd.Categorical(df_train.state)\n",
        "df_train['state'] = df_train.state.cat.codes\n",
        "\n",
        "\n",
        "df_train.status = pd.Categorical(df_train.status)\n",
        "df_train['status'] = df_train.status.cat.codes"
      ],
      "execution_count": 217,
      "outputs": []
    },
    {
      "cell_type": "code",
      "metadata": {
        "id": "inKJ25f8zC9m",
        "outputId": "04d572e2-059d-46f7-9c57-574061be202e",
        "colab": {
          "base_uri": "https://localhost:8080/",
          "height": 343
        }
      },
      "source": [
        "df_train.head(10)"
      ],
      "execution_count": 218,
      "outputs": [
        {
          "output_type": "execute_result",
          "data": {
            "text/html": [
              "<div>\n",
              "<style scoped>\n",
              "    .dataframe tbody tr th:only-of-type {\n",
              "        vertical-align: middle;\n",
              "    }\n",
              "\n",
              "    .dataframe tbody tr th {\n",
              "        vertical-align: top;\n",
              "    }\n",
              "\n",
              "    .dataframe thead th {\n",
              "        text-align: right;\n",
              "    }\n",
              "</style>\n",
              "<table border=\"1\" class=\"dataframe\">\n",
              "  <thead>\n",
              "    <tr style=\"text-align: right;\">\n",
              "      <th></th>\n",
              "      <th>patientId</th>\n",
              "      <th>reportedOn</th>\n",
              "      <th>ageEstimate</th>\n",
              "      <th>gender</th>\n",
              "      <th>city</th>\n",
              "      <th>district</th>\n",
              "      <th>state</th>\n",
              "      <th>status</th>\n",
              "    </tr>\n",
              "  </thead>\n",
              "  <tbody>\n",
              "    <tr>\n",
              "      <th>0</th>\n",
              "      <td>1</td>\n",
              "      <td>30/01/2020</td>\n",
              "      <td>20</td>\n",
              "      <td>0</td>\n",
              "      <td>471</td>\n",
              "      <td>406</td>\n",
              "      <td>15</td>\n",
              "      <td>3</td>\n",
              "    </tr>\n",
              "    <tr>\n",
              "      <th>1</th>\n",
              "      <td>2</td>\n",
              "      <td>02/02/2020</td>\n",
              "      <td>NaN</td>\n",
              "      <td>-1</td>\n",
              "      <td>11</td>\n",
              "      <td>8</td>\n",
              "      <td>15</td>\n",
              "      <td>3</td>\n",
              "    </tr>\n",
              "    <tr>\n",
              "      <th>2</th>\n",
              "      <td>3</td>\n",
              "      <td>03/02/2020</td>\n",
              "      <td>NaN</td>\n",
              "      <td>-1</td>\n",
              "      <td>212</td>\n",
              "      <td>206</td>\n",
              "      <td>15</td>\n",
              "      <td>3</td>\n",
              "    </tr>\n",
              "    <tr>\n",
              "      <th>3</th>\n",
              "      <td>4</td>\n",
              "      <td>02/03/2020</td>\n",
              "      <td>45</td>\n",
              "      <td>1</td>\n",
              "      <td>122</td>\n",
              "      <td>111</td>\n",
              "      <td>7</td>\n",
              "      <td>3</td>\n",
              "    </tr>\n",
              "    <tr>\n",
              "      <th>4</th>\n",
              "      <td>5</td>\n",
              "      <td>02/03/2020</td>\n",
              "      <td>24</td>\n",
              "      <td>1</td>\n",
              "      <td>169</td>\n",
              "      <td>158</td>\n",
              "      <td>27</td>\n",
              "      <td>3</td>\n",
              "    </tr>\n",
              "    <tr>\n",
              "      <th>5</th>\n",
              "      <td>6</td>\n",
              "      <td>03/03/2020</td>\n",
              "      <td>69</td>\n",
              "      <td>1</td>\n",
              "      <td>178</td>\n",
              "      <td>163</td>\n",
              "      <td>25</td>\n",
              "      <td>3</td>\n",
              "    </tr>\n",
              "    <tr>\n",
              "      <th>6</th>\n",
              "      <td>7</td>\n",
              "      <td>04/03/2020</td>\n",
              "      <td>55</td>\n",
              "      <td>-1</td>\n",
              "      <td>151</td>\n",
              "      <td>163</td>\n",
              "      <td>10</td>\n",
              "      <td>3</td>\n",
              "    </tr>\n",
              "    <tr>\n",
              "      <th>7</th>\n",
              "      <td>8</td>\n",
              "      <td>04/03/2020</td>\n",
              "      <td>55</td>\n",
              "      <td>-1</td>\n",
              "      <td>151</td>\n",
              "      <td>163</td>\n",
              "      <td>10</td>\n",
              "      <td>3</td>\n",
              "    </tr>\n",
              "    <tr>\n",
              "      <th>8</th>\n",
              "      <td>9</td>\n",
              "      <td>04/03/2020</td>\n",
              "      <td>55</td>\n",
              "      <td>-1</td>\n",
              "      <td>151</td>\n",
              "      <td>163</td>\n",
              "      <td>10</td>\n",
              "      <td>3</td>\n",
              "    </tr>\n",
              "    <tr>\n",
              "      <th>9</th>\n",
              "      <td>10</td>\n",
              "      <td>04/03/2020</td>\n",
              "      <td>55</td>\n",
              "      <td>-1</td>\n",
              "      <td>151</td>\n",
              "      <td>163</td>\n",
              "      <td>10</td>\n",
              "      <td>3</td>\n",
              "    </tr>\n",
              "  </tbody>\n",
              "</table>\n",
              "</div>"
            ],
            "text/plain": [
              "   patientId  reportedOn ageEstimate  gender  city  district  state  status\n",
              "0          1  30/01/2020          20       0   471       406     15       3\n",
              "1          2  02/02/2020         NaN      -1    11         8     15       3\n",
              "2          3  03/02/2020         NaN      -1   212       206     15       3\n",
              "3          4  02/03/2020          45       1   122       111      7       3\n",
              "4          5  02/03/2020          24       1   169       158     27       3\n",
              "5          6  03/03/2020          69       1   178       163     25       3\n",
              "6          7  04/03/2020          55      -1   151       163     10       3\n",
              "7          8  04/03/2020          55      -1   151       163     10       3\n",
              "8          9  04/03/2020          55      -1   151       163     10       3\n",
              "9         10  04/03/2020          55      -1   151       163     10       3"
            ]
          },
          "metadata": {
            "tags": []
          },
          "execution_count": 218
        }
      ]
    },
    {
      "cell_type": "code",
      "metadata": {
        "id": "QTba8VfT5ken",
        "outputId": "26053aed-8a4b-4026-89ed-31a097b1a275",
        "colab": {
          "base_uri": "https://localhost:8080/",
          "height": 34
        }
      },
      "source": [
        "(df_train['ageEstimate']=='28-35').any()"
      ],
      "execution_count": 219,
      "outputs": [
        {
          "output_type": "execute_result",
          "data": {
            "text/plain": [
              "True"
            ]
          },
          "metadata": {
            "tags": []
          },
          "execution_count": 219
        }
      ]
    },
    {
      "cell_type": "code",
      "metadata": {
        "id": "V7BId53J5EJx",
        "outputId": "bd713a39-7b7d-4c30-dcdc-55db68982d98",
        "colab": {
          "base_uri": "https://localhost:8080/",
          "height": 34
        }
      },
      "source": [
        "index_list = df_train[(df_train['ageEstimate'] == '28-35')].index.tolist()\n",
        "print(index_list)"
      ],
      "execution_count": 220,
      "outputs": [
        {
          "output_type": "stream",
          "text": [
            "[924, 925, 926, 927]\n"
          ],
          "name": "stdout"
        }
      ]
    },
    {
      "cell_type": "code",
      "metadata": {
        "id": "4VLs5Nt-6Jgb",
        "outputId": "1d7f29c2-0735-4219-9c8b-b660ea39716c",
        "colab": {
          "base_uri": "https://localhost:8080/",
          "height": 101
        }
      },
      "source": [
        "row1 = df_train.iloc[[924,925,926,927]] \n",
        "print(row1)"
      ],
      "execution_count": 221,
      "outputs": [
        {
          "output_type": "stream",
          "text": [
            "     patientId  reportedOn ageEstimate  gender  city  district  state  status\n",
            "924        925  28/03/2020       28-35       1   156        35     12       1\n",
            "925        926  28/03/2020       28-35       1   156        35     12       1\n",
            "926        927  28/03/2020       28-35       1   156        35     12       1\n",
            "927        928  28/03/2020       28-35       1   156        35     12       1\n"
          ],
          "name": "stdout"
        }
      ]
    },
    {
      "cell_type": "code",
      "metadata": {
        "id": "phUThWpdAAQq",
        "outputId": "fe7e1440-a3e2-42ca-dca9-b5248ba760ec",
        "colab": {
          "base_uri": "https://localhost:8080/",
          "height": 101
        }
      },
      "source": [
        "#replacing values '28-35' in ageEstimate with mean '31.5'\n",
        "df_train['ageEstimate'].replace({\"28-35\": '31.5'}, inplace=True)\n",
        "row1 = df_train.iloc[[924,925,926,927]] \n",
        "print(row1)"
      ],
      "execution_count": 222,
      "outputs": [
        {
          "output_type": "stream",
          "text": [
            "     patientId  reportedOn ageEstimate  gender  city  district  state  status\n",
            "924        925  28/03/2020        31.5       1   156        35     12       1\n",
            "925        926  28/03/2020        31.5       1   156        35     12       1\n",
            "926        927  28/03/2020        31.5       1   156        35     12       1\n",
            "927        928  28/03/2020        31.5       1   156        35     12       1\n"
          ],
          "name": "stdout"
        }
      ]
    },
    {
      "cell_type": "code",
      "metadata": {
        "id": "ObYvJu8vAt0z",
        "outputId": "a99d53f4-7559-45c2-9f83-cea47a5c659a",
        "colab": {
          "base_uri": "https://localhost:8080/",
          "height": 269
        }
      },
      "source": [
        "df_train.info()"
      ],
      "execution_count": 223,
      "outputs": [
        {
          "output_type": "stream",
          "text": [
            "<class 'pandas.core.frame.DataFrame'>\n",
            "RangeIndex: 27891 entries, 0 to 27890\n",
            "Data columns (total 8 columns):\n",
            " #   Column       Non-Null Count  Dtype \n",
            "---  ------       --------------  ----- \n",
            " 0   patientId    27891 non-null  int64 \n",
            " 1   reportedOn   27891 non-null  object\n",
            " 2   ageEstimate  2346 non-null   object\n",
            " 3   gender       27891 non-null  int8  \n",
            " 4   city         27891 non-null  int16 \n",
            " 5   district     27891 non-null  int16 \n",
            " 6   state        27891 non-null  int8  \n",
            " 7   status       27891 non-null  int8  \n",
            "dtypes: int16(2), int64(1), int8(3), object(2)\n",
            "memory usage: 844.5+ KB\n"
          ],
          "name": "stdout"
        }
      ]
    },
    {
      "cell_type": "code",
      "metadata": {
        "id": "4iCorHWB2vRu"
      },
      "source": [
        "df_train['status_int']=df_train['status']\n",
        "df_train['ageEstimate']=df_train['ageEstimate'].astype(float)"
      ],
      "execution_count": 224,
      "outputs": []
    },
    {
      "cell_type": "code",
      "metadata": {
        "id": "rGvcSlXT23xN",
        "outputId": "d0d1806f-8dc1-40b1-975f-9a8706ea3bda",
        "colab": {
          "base_uri": "https://localhost:8080/",
          "height": 286
        }
      },
      "source": [
        "df_train.info()"
      ],
      "execution_count": 225,
      "outputs": [
        {
          "output_type": "stream",
          "text": [
            "<class 'pandas.core.frame.DataFrame'>\n",
            "RangeIndex: 27891 entries, 0 to 27890\n",
            "Data columns (total 9 columns):\n",
            " #   Column       Non-Null Count  Dtype  \n",
            "---  ------       --------------  -----  \n",
            " 0   patientId    27891 non-null  int64  \n",
            " 1   reportedOn   27891 non-null  object \n",
            " 2   ageEstimate  2346 non-null   float64\n",
            " 3   gender       27891 non-null  int8   \n",
            " 4   city         27891 non-null  int16  \n",
            " 5   district     27891 non-null  int16  \n",
            " 6   state        27891 non-null  int8   \n",
            " 7   status       27891 non-null  int8   \n",
            " 8   status_int   27891 non-null  int8   \n",
            "dtypes: float64(1), int16(2), int64(1), int8(4), object(1)\n",
            "memory usage: 871.7+ KB\n"
          ],
          "name": "stdout"
        }
      ]
    },
    {
      "cell_type": "code",
      "metadata": {
        "id": "chVMvTuICXp3"
      },
      "source": [
        "#regression model to calculate missing values"
      ],
      "execution_count": 226,
      "outputs": []
    },
    {
      "cell_type": "code",
      "metadata": {
        "id": "B5OBYa_Szal9",
        "outputId": "502726e4-7703-495d-ad72-292d234ffe49",
        "colab": {
          "base_uri": "https://localhost:8080/",
          "height": 34
        }
      },
      "source": [
        "import math\n",
        "print(\"Correlation: \", df_train['status_int'].corr(df_train['ageEstimate']))"
      ],
      "execution_count": 227,
      "outputs": [
        {
          "output_type": "stream",
          "text": [
            "Correlation:  -0.020725577219132662\n"
          ],
          "name": "stdout"
        }
      ]
    },
    {
      "cell_type": "code",
      "metadata": {
        "id": "Q4kiGrW31_QF"
      },
      "source": [
        "from sklearn.linear_model import LinearRegression\n",
        "'''df_filter = df_train[df_train['ageEstimate'] <= df_train['ageEstimate'].mean() + df_train['ageEstimate'].std() ].copy() '''\n",
        "#the above filter is not suitable in current category(more exploration needed for better filter)\n",
        "#below filter optimal as of now\n",
        "df_filter = df_train[df_train['ageEstimate'] > 0].copy()\n",
        "y_pred = []\n",
        "y_true = []"
      ],
      "execution_count": 228,
      "outputs": []
    },
    {
      "cell_type": "code",
      "metadata": {
        "id": "j1SQkLgcUXNc"
      },
      "source": [
        "from sklearn.model_selection import KFold"
      ],
      "execution_count": 229,
      "outputs": []
    },
    {
      "cell_type": "code",
      "metadata": {
        "id": "yXTvAMVnCMts"
      },
      "source": [
        "#simple linear regression model to predict missing values\n",
        "\n",
        "kf = KFold(n_splits=10, random_state = None)\n",
        "for train_index, test_index in kf.split(df_filter):\n",
        "    df_test1 = df_filter.iloc[test_index]\n",
        "    df_train1 = df_filter.iloc[train_index]\n",
        "    X_train = np.array(df_train1['status_int']).reshape(-1, 1)     \n",
        "    y_train = np.array(df_train1['ageEstimate']).reshape(-1, 1)\n",
        "    X_test = np.array(df_test1['status_int']).reshape(-1, 1)  \n",
        "    y_test = np.array(df_test1['ageEstimate']).reshape(-1, 1)\n",
        "    model = LinearRegression()\n",
        "    model.fit(X_train, y_train)\n",
        "    y_pred.append(model.predict(X_test)[0])\n",
        "    y_true.append(y_test[0])\n",
        "   "
      ],
      "execution_count": 230,
      "outputs": []
    },
    {
      "cell_type": "code",
      "metadata": {
        "id": "KKV1zisPUTVa"
      },
      "source": [
        "from sklearn.ensemble import RandomForestRegressor"
      ],
      "execution_count": 231,
      "outputs": []
    },
    {
      "cell_type": "code",
      "metadata": {
        "id": "Kqp6WJ4AVM6f"
      },
      "source": [
        "#Random Forest Regressor model to predict missing values\n",
        "'''features = ['status_int']\n",
        "for train_index, test_index in kf.split(df_filter):\n",
        "    df_test1 = df_filter.iloc[test_index]\n",
        "    df_train1 = df_filter.iloc[train_index]\n",
        "    \n",
        "    X_train = np.array(df_train1[features])\n",
        "    y_train = np.array(df_train1['ageEstimate'])\n",
        "    X_test = np.array(df_test1[features])\n",
        "    y_test = np.array(df_test1['ageEstimate'])\n",
        "    model = RandomForestRegressor(n_estimators = 1000, max_depth = 1000, random_state = None)\n",
        "    model.fit(X_train, y_train)\n",
        "    y_pred.append(model.predict(X_test)[0])\n",
        "    y_true.append(y_test[0])'''"
      ],
      "execution_count": null,
      "outputs": []
    },
    {
      "cell_type": "code",
      "metadata": {
        "id": "zn8q6xfuFOJl"
      },
      "source": [
        "from sklearn.metrics import mean_squared_error"
      ],
      "execution_count": 233,
      "outputs": []
    },
    {
      "cell_type": "code",
      "metadata": {
        "id": "UvygiB8DS2FS",
        "outputId": "70b5ee54-6ac1-49a4-a0dd-ac5c43f569a4",
        "colab": {
          "base_uri": "https://localhost:8080/",
          "height": 34
        }
      },
      "source": [
        "print(\"Mean Square Error: \", mean_squared_error(y_true, y_pred))"
      ],
      "execution_count": 234,
      "outputs": [
        {
          "output_type": "stream",
          "text": [
            "Mean Square Error:  208.41785375592627\n"
          ],
          "name": "stdout"
        }
      ]
    },
    {
      "cell_type": "code",
      "metadata": {
        "id": "pPlbt5Z5S5b6",
        "outputId": "32dfdff7-7ba9-40a9-c903-bd0922f084a4",
        "colab": {
          "base_uri": "https://localhost:8080/",
          "height": 34
        }
      },
      "source": [
        "df_missing = df_train[df_train['ageEstimate'].isnull()].copy()\n",
        "X_test_lr = np.array(df_missing['status_int']).reshape(-1, 1)\n",
        "X_train_lr = np.array(df_filter['status_int']).reshape(-1, 1)    \n",
        "y_train_lr = np.array(df_filter['ageEstimate']).reshape(-1, 1)\n",
        "model_lr = LinearRegression()\n",
        "model_lr.fit(X_train_lr, y_train_lr)\n",
        "print(\"Linear regression predictions: \", model_lr.predict(X_test_lr)[0][0])"
      ],
      "execution_count": 235,
      "outputs": [
        {
          "output_type": "stream",
          "text": [
            "Linear regression predictions:  37.03147513178\n"
          ],
          "name": "stdout"
        }
      ]
    },
    {
      "cell_type": "code",
      "metadata": {
        "id": "7KFPkh8xoKR4"
      },
      "source": [
        "#final model which gives best possible outcome\n",
        "def predict_missing_values(messy_df, metric, colnames):\n",
        "    \n",
        "    # Create X_df of predictor columns\n",
        "    X_df = messy_df.drop(colnames, axis = 1)\n",
        "    \n",
        "    # Create Y_df of predicted columns\n",
        "    Y_df = messy_df[colnames]\n",
        "        \n",
        "    # Create empty dataframes and list\n",
        "    Y_pred_df = pd.DataFrame(columns=colnames)\n",
        "    Y_missing_df = pd.DataFrame(columns=colnames)\n",
        "    missing_list = []\n",
        "    \n",
        "    # Loop through all columns containing missing values\n",
        "    for col in messy_df[colnames]:\n",
        "    \n",
        "        # Number of missing values in the column\n",
        "        missing_count = messy_df[col].isnull().sum()\n",
        "        \n",
        "        # Separate train dataset which does not contain missing values\n",
        "        messy_df_train = messy_df[~messy_df[col].isnull()]\n",
        "        \n",
        "        # Create X and Y within train dataset\n",
        "        msg_cols_train_df = messy_df_train[col]\n",
        "        messy_df_train = messy_df_train.drop(colnames, axis = 1)\n",
        "\n",
        "        # Create test dataset, containing missing values in Y    \n",
        "        messy_df_test = messy_df[messy_df[col].isnull()]\n",
        "        \n",
        "        # Separate X and Y in test dataset\n",
        "        msg_cols_test_df = messy_df_test[col]\n",
        "        messy_df_test = messy_df_test.drop(colnames,axis = 1)\n",
        "        # Copy X_train and Y_train\n",
        "        Y_train = msg_cols_train_df.copy()\n",
        "        X_train = messy_df_train.copy()\n",
        "        \n",
        "        # Linear Regression model\n",
        "        if metric == \"Linear Regression\":\n",
        "            model = LinearRegression()\n",
        "            model.fit(X_train,Y_train)\n",
        "            print(\"R-squared value is: \" + str(model.score(X_train, Y_train)))\n",
        "          \n",
        "        # Random Forests regression model\n",
        "        elif metric == \"Random Forests\":\n",
        "            model = RandomForestRegressor(n_estimators = 100 , oob_score = True)\n",
        "            model.fit(X_train,Y_train) \n",
        "            print(\"R-squared value is: \" + str(model.score(X_train, Y_train)))\n",
        "#             importances = model.feature_importances_\n",
        "#             indices = np.argsort(importances)\n",
        "#             features = X_train.columns\n",
        "            \n",
        "#             print(\"Missing values in\"+ col)\n",
        "#             #plt.title('Feature Importances')\n",
        "#             plt.barh(range(len(indices)), importances[indices], color='b', align='center')\n",
        "#             plt.yticks(range(len(indices)), features) ## removed [indices]\n",
        "#             plt.xlabel('Relative Importance')\n",
        "#             plt.show()\n",
        "        \n",
        "        X_test = messy_df_test.copy()\n",
        "        \n",
        "        # Predict Y_test values by passing X_test as input to the model\n",
        "        Y_test = model.predict(X_test)\n",
        "        \n",
        "        Y_test_integer = pd.to_numeric(pd.Series(Y_test),downcast='integer')\n",
        "        # Append predicted Y values to known Y values\n",
        "        Y_complete = Y_train.append(Y_test_integer)\n",
        "        Y_complete = Y_complete.reset_index(drop = True)\n",
        "        \n",
        "        # Update list of missing values\n",
        "        missing_list.append(Y_test.tolist())\n",
        "        \n",
        "        Y_pred_df[col] = Y_complete\n",
        "        Y_pred_df = Y_pred_df.reset_index(drop = True)\n",
        "    \n",
        "    # Create cleaned up dataframe\n",
        "    clean_df = X_df.join(Y_pred_df)\n",
        "    \n",
        "    return clean_df,missing_list"
      ],
      "execution_count": 236,
      "outputs": []
    },
    {
      "cell_type": "code",
      "metadata": {
        "id": "jfa9-wo21Nq-",
        "outputId": "e75d8443-bb47-4104-ae75-7892c2941fba",
        "colab": {
          "base_uri": "https://localhost:8080/",
          "height": 269
        }
      },
      "source": [
        "df_train_copy=df_train.copy()\n",
        "df_train_copy.drop('reportedOn',axis=1,inplace=True)\n",
        "df_train_copy.info()"
      ],
      "execution_count": 237,
      "outputs": [
        {
          "output_type": "stream",
          "text": [
            "<class 'pandas.core.frame.DataFrame'>\n",
            "RangeIndex: 27891 entries, 0 to 27890\n",
            "Data columns (total 8 columns):\n",
            " #   Column       Non-Null Count  Dtype  \n",
            "---  ------       --------------  -----  \n",
            " 0   patientId    27891 non-null  int64  \n",
            " 1   ageEstimate  2346 non-null   float64\n",
            " 2   gender       27891 non-null  int8   \n",
            " 3   city         27891 non-null  int16  \n",
            " 4   district     27891 non-null  int16  \n",
            " 5   state        27891 non-null  int8   \n",
            " 6   status       27891 non-null  int8   \n",
            " 7   status_int   27891 non-null  int8   \n",
            "dtypes: float64(1), int16(2), int64(1), int8(4)\n",
            "memory usage: 653.8 KB\n"
          ],
          "name": "stdout"
        }
      ]
    },
    {
      "cell_type": "code",
      "metadata": {
        "id": "vwH1PkHr0ONG",
        "outputId": "d9c27e48-23ca-4c96-9cf2-fec987fbba87",
        "colab": {
          "base_uri": "https://localhost:8080/",
          "height": 34
        }
      },
      "source": [
        "df_pre_final=pd.DataFrame()\n",
        "missing_age_array=np.empty(27891-2346)\n",
        "[df_pre_final,missing_age_array] = predict_missing_values(df_train_copy, \"Linear Regression\", ['ageEstimate'])"
      ],
      "execution_count": 238,
      "outputs": [
        {
          "output_type": "stream",
          "text": [
            "R-squared value is: 0.025266441336667226\n"
          ],
          "name": "stdout"
        }
      ]
    },
    {
      "cell_type": "code",
      "metadata": {
        "id": "_O3Jdv-J4OOU"
      },
      "source": [
        "#linear regression is better choice for the given data"
      ],
      "execution_count": 239,
      "outputs": []
    },
    {
      "cell_type": "code",
      "metadata": {
        "id": "_K6YDXgT4ufJ",
        "outputId": "3ba3d677-f6b9-4f09-f3b5-0f7558b35c27",
        "colab": {
          "base_uri": "https://localhost:8080/",
          "height": 269
        }
      },
      "source": [
        "df_pre_final.info()"
      ],
      "execution_count": 240,
      "outputs": [
        {
          "output_type": "stream",
          "text": [
            "<class 'pandas.core.frame.DataFrame'>\n",
            "RangeIndex: 27891 entries, 0 to 27890\n",
            "Data columns (total 8 columns):\n",
            " #   Column       Non-Null Count  Dtype  \n",
            "---  ------       --------------  -----  \n",
            " 0   patientId    27891 non-null  int64  \n",
            " 1   gender       27891 non-null  int8   \n",
            " 2   city         27891 non-null  int16  \n",
            " 3   district     27891 non-null  int16  \n",
            " 4   state        27891 non-null  int8   \n",
            " 5   status       27891 non-null  int8   \n",
            " 6   status_int   27891 non-null  int8   \n",
            " 7   ageEstimate  27891 non-null  float64\n",
            "dtypes: float64(1), int16(2), int64(1), int8(4)\n",
            "memory usage: 653.8 KB\n"
          ],
          "name": "stdout"
        }
      ]
    },
    {
      "cell_type": "code",
      "metadata": {
        "id": "AX9PKQYz5Ldb",
        "outputId": "4869fc80-57a4-426f-a44d-e889453a186d",
        "colab": {
          "base_uri": "https://localhost:8080/",
          "height": 600
        }
      },
      "source": [
        "plt.figure(figsize=(20,10))\n",
        "sns.heatmap(df_pre_final.isnull(),yticklabels=False,cbar=False,cmap='viridis')"
      ],
      "execution_count": 241,
      "outputs": [
        {
          "output_type": "execute_result",
          "data": {
            "text/plain": [
              "<matplotlib.axes._subplots.AxesSubplot at 0x7f8f582a4358>"
            ]
          },
          "metadata": {
            "tags": []
          },
          "execution_count": 241
        },
        {
          "output_type": "display_data",
          "data": {
            "image/png": "[encoded data removed]",
            "text/plain": [
              "<Figure size 1440x720 with 1 Axes>"
            ]
          },
          "metadata": {
            "tags": [],
            "needs_background": "light"
          }
        }
      ]
    },
    {
      "cell_type": "code",
      "metadata": {
        "id": "EaVJl_q06-bE",
        "outputId": "3dd79f3b-d2a4-4087-9b0c-1bac87a6b1cb",
        "colab": {
          "base_uri": "https://localhost:8080/",
          "height": 195
        }
      },
      "source": [
        "df_pre_final.head(5)"
      ],
      "execution_count": 242,
      "outputs": [
        {
          "output_type": "execute_result",
          "data": {
            "text/html": [
              "<div>\n",
              "<style scoped>\n",
              "    .dataframe tbody tr th:only-of-type {\n",
              "        vertical-align: middle;\n",
              "    }\n",
              "\n",
              "    .dataframe tbody tr th {\n",
              "        vertical-align: top;\n",
              "    }\n",
              "\n",
              "    .dataframe thead th {\n",
              "        text-align: right;\n",
              "    }\n",
              "</style>\n",
              "<table border=\"1\" class=\"dataframe\">\n",
              "  <thead>\n",
              "    <tr style=\"text-align: right;\">\n",
              "      <th></th>\n",
              "      <th>patientId</th>\n",
              "      <th>gender</th>\n",
              "      <th>city</th>\n",
              "      <th>district</th>\n",
              "      <th>state</th>\n",
              "      <th>status</th>\n",
              "      <th>status_int</th>\n",
              "      <th>ageEstimate</th>\n",
              "    </tr>\n",
              "  </thead>\n",
              "  <tbody>\n",
              "    <tr>\n",
              "      <th>0</th>\n",
              "      <td>1</td>\n",
              "      <td>0</td>\n",
              "      <td>471</td>\n",
              "      <td>406</td>\n",
              "      <td>15</td>\n",
              "      <td>3</td>\n",
              "      <td>3</td>\n",
              "      <td>20.0</td>\n",
              "    </tr>\n",
              "    <tr>\n",
              "      <th>1</th>\n",
              "      <td>2</td>\n",
              "      <td>-1</td>\n",
              "      <td>11</td>\n",
              "      <td>8</td>\n",
              "      <td>15</td>\n",
              "      <td>3</td>\n",
              "      <td>3</td>\n",
              "      <td>45.0</td>\n",
              "    </tr>\n",
              "    <tr>\n",
              "      <th>2</th>\n",
              "      <td>3</td>\n",
              "      <td>-1</td>\n",
              "      <td>212</td>\n",
              "      <td>206</td>\n",
              "      <td>15</td>\n",
              "      <td>3</td>\n",
              "      <td>3</td>\n",
              "      <td>24.0</td>\n",
              "    </tr>\n",
              "    <tr>\n",
              "      <th>3</th>\n",
              "      <td>4</td>\n",
              "      <td>1</td>\n",
              "      <td>122</td>\n",
              "      <td>111</td>\n",
              "      <td>7</td>\n",
              "      <td>3</td>\n",
              "      <td>3</td>\n",
              "      <td>69.0</td>\n",
              "    </tr>\n",
              "    <tr>\n",
              "      <th>4</th>\n",
              "      <td>5</td>\n",
              "      <td>1</td>\n",
              "      <td>169</td>\n",
              "      <td>158</td>\n",
              "      <td>27</td>\n",
              "      <td>3</td>\n",
              "      <td>3</td>\n",
              "      <td>55.0</td>\n",
              "    </tr>\n",
              "  </tbody>\n",
              "</table>\n",
              "</div>"
            ],
            "text/plain": [
              "   patientId  gender  city  district  state  status  status_int  ageEstimate\n",
              "0          1       0   471       406     15       3           3         20.0\n",
              "1          2      -1    11         8     15       3           3         45.0\n",
              "2          3      -1   212       206     15       3           3         24.0\n",
              "3          4       1   122       111      7       3           3         69.0\n",
              "4          5       1   169       158     27       3           3         55.0"
            ]
          },
          "metadata": {
            "tags": []
          },
          "execution_count": 242
        }
      ]
    },
    {
      "cell_type": "code",
      "metadata": {
        "id": "kTHSgLHv70P_"
      },
      "source": [
        "#female=0, male =1, NaN = -1\n",
        "#need seperate files for deceased, recovered and hospitalized "
      ],
      "execution_count": 243,
      "outputs": []
    },
    {
      "cell_type": "code",
      "metadata": {
        "id": "6KfR0D3KBndI",
        "outputId": "85f06049-f1d6-4630-ef09-baa3e25379c3",
        "colab": {
          "base_uri": "https://localhost:8080/",
          "height": 218
        }
      },
      "source": [
        "df_ageEstimate = df_pre_final[df_pre_final.columns[7]]\n",
        "df_ageEstimate"
      ],
      "execution_count": 244,
      "outputs": [
        {
          "output_type": "execute_result",
          "data": {
            "text/plain": [
              "0        20.000000\n",
              "1        45.000000\n",
              "2        24.000000\n",
              "3        69.000000\n",
              "4        55.000000\n",
              "           ...    \n",
              "27886    32.938258\n",
              "27887    32.937983\n",
              "27888    32.937707\n",
              "27889    32.937432\n",
              "27890    36.430086\n",
              "Name: ageEstimate, Length: 27891, dtype: float64"
            ]
          },
          "metadata": {
            "tags": []
          },
          "execution_count": 244
        }
      ]
    },
    {
      "cell_type": "code",
      "metadata": {
        "id": "x4a81YlHCEUI",
        "outputId": "2434aeac-13c7-4003-cc1a-971c1bf4e70c",
        "colab": {
          "base_uri": "https://localhost:8080/",
          "height": 168
        }
      },
      "source": [
        "df_ageEstimate.describe()"
      ],
      "execution_count": 245,
      "outputs": [
        {
          "output_type": "execute_result",
          "data": {
            "text/plain": [
              "count    27891.000000\n",
              "mean        38.096129\n",
              "std          5.553127\n",
              "min          0.300000\n",
              "25%         36.004985\n",
              "50%         38.053537\n",
              "75%         40.120931\n",
              "max         98.000000\n",
              "Name: ageEstimate, dtype: float64"
            ]
          },
          "metadata": {
            "tags": []
          },
          "execution_count": 245
        }
      ]
    },
    {
      "cell_type": "code",
      "metadata": {
        "id": "0L7hdPJ59cqJ",
        "outputId": "3e52782e-7e1d-42de-d120-5ce16612207c",
        "colab": {
          "base_uri": "https://localhost:8080/",
          "height": 235
        }
      },
      "source": [
        "df_final_1 = df.copy()\n",
        "df_final_1.drop('onsetEstimate',axis=1,inplace=True)\n",
        "df_final_1.drop('contractedFrom',axis=1,inplace=True)\n",
        "df_final_1.drop('notes',axis=1,inplace=True)\n",
        "df_final_1.drop('city',axis=1,inplace=True)\n",
        "df_final_1.drop('district',axis=1,inplace=True)\n",
        "df_final_1.info()"
      ],
      "execution_count": 246,
      "outputs": [
        {
          "output_type": "stream",
          "text": [
            "<class 'pandas.core.frame.DataFrame'>\n",
            "RangeIndex: 27891 entries, 0 to 27890\n",
            "Data columns (total 6 columns):\n",
            " #   Column       Non-Null Count  Dtype \n",
            "---  ------       --------------  ----- \n",
            " 0   patientId    27891 non-null  int64 \n",
            " 1   reportedOn   27891 non-null  object\n",
            " 2   ageEstimate  2346 non-null   object\n",
            " 3   gender       5313 non-null   object\n",
            " 4   state        27890 non-null  object\n",
            " 5   status       27891 non-null  object\n",
            "dtypes: int64(1), object(5)\n",
            "memory usage: 1.3+ MB\n"
          ],
          "name": "stdout"
        }
      ]
    },
    {
      "cell_type": "code",
      "metadata": {
        "id": "3nsp8I9gEDtI"
      },
      "source": [
        "array_ageEstimate=np.empty(27891,dtype = 'float')\n",
        "array_ageEstimate  = df_ageEstimate.to_numpy(dtype='float')\n",
        "\n",
        "df_final_1.insert(loc=2,column='newAgeEstimate',value = array_ageEstimate,allow_duplicates=True)"
      ],
      "execution_count": 247,
      "outputs": []
    },
    {
      "cell_type": "code",
      "metadata": {
        "id": "DUJAA8jeFuMO",
        "outputId": "0db44f2e-fc2d-43ca-eab9-850833b0e99e",
        "colab": {
          "base_uri": "https://localhost:8080/",
          "height": 252
        }
      },
      "source": [
        "df_final_1.info()"
      ],
      "execution_count": 248,
      "outputs": [
        {
          "output_type": "stream",
          "text": [
            "<class 'pandas.core.frame.DataFrame'>\n",
            "RangeIndex: 27891 entries, 0 to 27890\n",
            "Data columns (total 7 columns):\n",
            " #   Column          Non-Null Count  Dtype  \n",
            "---  ------          --------------  -----  \n",
            " 0   patientId       27891 non-null  int64  \n",
            " 1   reportedOn      27891 non-null  object \n",
            " 2   newAgeEstimate  27891 non-null  float64\n",
            " 3   ageEstimate     2346 non-null   object \n",
            " 4   gender          5313 non-null   object \n",
            " 5   state           27890 non-null  object \n",
            " 6   status          27891 non-null  object \n",
            "dtypes: float64(1), int64(1), object(5)\n",
            "memory usage: 1.5+ MB\n"
          ],
          "name": "stdout"
        }
      ]
    },
    {
      "cell_type": "code",
      "metadata": {
        "id": "Wgoy8BAlHJm6"
      },
      "source": [
        "df_final_1.drop('ageEstimate',axis=1,inplace=True)"
      ],
      "execution_count": 249,
      "outputs": []
    },
    {
      "cell_type": "code",
      "metadata": {
        "id": "CLJ29ppAHyaJ"
      },
      "source": [
        "df_final_1.rename(columns={\"newAgeEstimate\":\"ageEstimate\"},inplace =True)"
      ],
      "execution_count": 250,
      "outputs": []
    },
    {
      "cell_type": "code",
      "metadata": {
        "id": "fVPwB1hENMpO",
        "outputId": "d68a1f38-3b10-41a5-8e4f-711bd0274ec1",
        "colab": {
          "base_uri": "https://localhost:8080/",
          "height": 235
        }
      },
      "source": [
        "df_final_1.info()"
      ],
      "execution_count": 251,
      "outputs": [
        {
          "output_type": "stream",
          "text": [
            "<class 'pandas.core.frame.DataFrame'>\n",
            "RangeIndex: 27891 entries, 0 to 27890\n",
            "Data columns (total 6 columns):\n",
            " #   Column       Non-Null Count  Dtype  \n",
            "---  ------       --------------  -----  \n",
            " 0   patientId    27891 non-null  int64  \n",
            " 1   reportedOn   27891 non-null  object \n",
            " 2   ageEstimate  27891 non-null  float64\n",
            " 3   gender       5313 non-null   object \n",
            " 4   state        27890 non-null  object \n",
            " 5   status       27891 non-null  object \n",
            "dtypes: float64(1), int64(1), object(4)\n",
            "memory usage: 1.3+ MB\n"
          ],
          "name": "stdout"
        }
      ]
    },
    {
      "cell_type": "code",
      "metadata": {
        "id": "9e-ybKT2MhT6",
        "outputId": "8ea15235-95ee-4ce7-a8f8-7ef2a16344d8",
        "colab": {
          "base_uri": "https://localhost:8080/",
          "height": 67
        }
      },
      "source": [
        "#downloading the neccessary values, with the predicted values\n",
        "df_final_csv = df_final_1.copy()\n",
        "final_data = df_final_csv.to_csv('final_data_compiled.csv', index = True) \n",
        "print('\\nCSV String:\\n', final_data) "
      ],
      "execution_count": 203,
      "outputs": [
        {
          "output_type": "stream",
          "text": [
            "\n",
            "CSV String:\n",
            " None\n"
          ],
          "name": "stdout"
        }
      ]
    },
    {
      "cell_type": "code",
      "metadata": {
        "id": "pXMtqKXBR59Z"
      },
      "source": [
        "index_list_R = df_final_1[(df_final_1['status'] == 'Recovered')].index.tolist()\n",
        "index_list_D = df_final_1[(df_final_1['status'] == 'Deceased')].index.tolist()\n",
        "index_list_H = df_final_1[(df_final_1['status'] == 'Hospitalized')].index.tolist()\n",
        "print(index_list_R)\n",
        "print(index_list_D)\n",
        "print(index_list_H)"
      ],
      "execution_count": null,
      "outputs": []
    },
    {
      "cell_type": "code",
      "metadata": {
        "id": "diI5ccwTR77A",
        "outputId": "5779a13c-d66d-44f4-e0b1-dfbf57d7543e",
        "colab": {
          "base_uri": "https://localhost:8080/",
          "height": 790
        }
      },
      "source": [
        "row_D = df_final_1.iloc[index_list_D]\n",
        "print(row_D)"
      ],
      "execution_count": 255,
      "outputs": [
        {
          "output_type": "stream",
          "text": [
            "       patientId  reportedOn  ageEstimate  gender              state    status\n",
            "72            72  12/03/2020    20.000000  female              Delhi  Deceased\n",
            "76            77  12/03/2020    26.000000    male        Maharashtra  Deceased\n",
            "81            74  13/03/2020    34.000000    male          Karnataka  Deceased\n",
            "181          182  19/03/2020    57.000000    male             Punjab  Deceased\n",
            "269          270  21/03/2020    26.000000    male        Maharashtra  Deceased\n",
            "293          294  21/03/2020    40.000000    male            Gujarat  Deceased\n",
            "326          327  21/03/2020    57.000000    male        West Bengal  Deceased\n",
            "347          348  22/03/2020    26.000000    male              Bihar  Deceased\n",
            "379          380  22/03/2020    24.000000    male             Kerala  Deceased\n",
            "430          430  23/03/2020     1.000000  female            Gujarat  Deceased\n",
            "478          487  23/03/2020    76.000000    male   Himachal Pradesh  Deceased\n",
            "493          502  23/03/2020    21.000000    male         Tamil Nadu  Deceased\n",
            "530          531  24/03/2020    68.000000    male  Jammu and Kashmir  Deceased\n",
            "576          577  25/03/2020    24.000000  female     Madhya Pradesh  Deceased\n",
            "688          690  26/03/2020    35.000000  female          Karnataka  Deceased\n",
            "724          726  26/03/2020    34.000000     NaN          Rajasthan  Deceased\n",
            "746          747  27/03/2020    31.000000    male     Madhya Pradesh  Deceased\n",
            "757          758  27/03/2020    48.000000    male          Karnataka  Deceased\n",
            "945          946  28/03/2020    65.000000    male          Telangana  Deceased\n",
            "1006        1012  28/03/2020    48.000000  female        West Bengal  Deceased\n",
            "1073        1074  29/03/2020    41.000000    male             Kerala  Deceased\n",
            "1165        1166  30/03/2020    47.000000  female            Gujarat  Deceased\n",
            "1384        1385  31/03/2020    10.000000  female        West Bengal  Deceased\n",
            "2060        2061  02/04/2020    67.000000    male        Maharashtra  Deceased\n",
            "2586        2587  03/04/2020    41.672944    male          Karnataka  Deceased\n",
            "3019        3020  03/04/2020    37.476702    male        Maharashtra  Deceased\n",
            "3020        3021  03/04/2020    41.289219    male        Maharashtra  Deceased\n",
            "3021        3022  03/04/2020    41.288943  female        Maharashtra  Deceased\n",
            "3189        3190  04/04/2020    41.614698    male        Maharashtra  Deceased\n",
            "3190        3191  04/04/2020    41.614422    male        Maharashtra  Deceased\n",
            "3488        3489  04/04/2020    40.088069  female             Punjab  Deceased\n",
            "3768        3762  05/04/2020    42.438592    male        Maharashtra  Deceased\n",
            "4144        4146  05/04/2020    39.883671     NaN      Uttar Pradesh  Deceased\n",
            "4242        4244  05/04/2020    42.661219    male            Gujarat  Deceased\n",
            "4860        4861  07/04/2020    41.864577  female          Karnataka  Deceased\n",
            "4905        4906  07/04/2020    38.609291    male             Odisha  Deceased\n",
            "4932        4933  07/04/2020    42.733382    male             Kerala  Deceased\n",
            "5384        5385  08/04/2020    40.914179    male          Karnataka  Deceased\n",
            "6266        6267  09/04/2020    40.627139    male          Karnataka  Deceased\n",
            "6832        6833  10/04/2020    40.456348    male          Karnataka  Deceased\n",
            "8323        8324  11/04/2020    38.609073  female        Maharashtra  Deceased\n",
            "11680      11681  15/04/2020    40.606878    male        Maharashtra  Deceased\n",
            "11762      11763  15/04/2020    40.155819  female          Karnataka  Deceased\n",
            "14715      14715  18/04/2020    38.118873    male          Karnataka  Deceased\n",
            "16136      16136  19/04/2020    39.242153  female          Karnataka  Deceased\n"
          ],
          "name": "stdout"
        }
      ]
    },
    {
      "cell_type": "code",
      "metadata": {
        "id": "60xGHFTTUdH-",
        "outputId": "dc948d3f-a4fb-4e6b-f3ea-6a855363ee84",
        "colab": {
          "base_uri": "https://localhost:8080/",
          "height": 252
        }
      },
      "source": [
        "row_R = df_final_1.iloc[index_list_R]\n",
        "print(row_R)"
      ],
      "execution_count": 256,
      "outputs": [
        {
          "output_type": "stream",
          "text": [
            "      patientId  reportedOn  ...                        state     status\n",
            "0             1  30/01/2020  ...                       Kerala  Recovered\n",
            "1             2  02/02/2020  ...                       Kerala  Recovered\n",
            "2             3  03/02/2020  ...                       Kerala  Recovered\n",
            "3             4  02/03/2020  ...                        Delhi  Recovered\n",
            "4             5  02/03/2020  ...                    Telangana  Recovered\n",
            "...         ...         ...  ...                          ...        ...\n",
            "1260       1261  30/03/2020  ...                       Kerala  Recovered\n",
            "1420       1421  31/03/2020  ...                    Karnataka  Recovered\n",
            "1608       1609  31/03/2020  ...                 Chhattisgarh  Recovered\n",
            "1947       1948  01/04/2020  ...                    Karnataka  Recovered\n",
            "5477       5478  08/04/2020  ...  Andaman and Nicobar Islands  Recovered\n",
            "\n",
            "[182 rows x 6 columns]\n"
          ],
          "name": "stdout"
        }
      ]
    },
    {
      "cell_type": "code",
      "metadata": {
        "id": "qsCl4AC-Ujfe",
        "outputId": "4ca4bab7-d1f6-403c-8995-c836e45408e0",
        "colab": {
          "base_uri": "https://localhost:8080/",
          "height": 252
        }
      },
      "source": [
        "row_H = df_final_1.iloc[index_list_H]\n",
        "print(row_H)"
      ],
      "execution_count": 258,
      "outputs": [
        {
          "output_type": "stream",
          "text": [
            "       patientId  reportedOn  ageEstimate  gender          state        status\n",
            "18            19  04/03/2020    70.000000     NaN        Haryana  Hospitalized\n",
            "19            20  04/03/2020    45.000000     NaN        Haryana  Hospitalized\n",
            "21            22  04/03/2020    27.000000    male  Uttar Pradesh  Hospitalized\n",
            "26            27  04/03/2020    24.000000     NaN  Uttar Pradesh  Hospitalized\n",
            "27            28  04/03/2020    54.000000     NaN  Uttar Pradesh  Hospitalized\n",
            "...          ...         ...          ...     ...            ...           ...\n",
            "27886      27887  26/04/2020    32.938258     NaN          Delhi  Hospitalized\n",
            "27887      27888  26/04/2020    32.937983     NaN    Uttarakhand  Hospitalized\n",
            "27888      27889  26/04/2020    32.937707  female          Bihar  Hospitalized\n",
            "27889      27890  26/04/2020    32.937432  female          Bihar  Hospitalized\n",
            "27890      27891  26/04/2020    36.430086  female          Bihar  Hospitalized\n",
            "\n",
            "[27663 rows x 6 columns]\n"
          ],
          "name": "stdout"
        }
      ]
    },
    {
      "cell_type": "code",
      "metadata": {
        "id": "dhjmUB-HU0_t",
        "outputId": "4a9f0e6f-8aa2-4107-96aa-58f8d5e92c6b",
        "colab": {
          "base_uri": "https://localhost:8080/",
          "height": 806
        }
      },
      "source": [
        "print(\"Deceased info:\\n \")\n",
        "row_D.info()\n",
        "print(\"\\nHospitalized info:\\n \")\n",
        "row_H.info()\n",
        "print(\"\\nRecoveredinfo:\\n \")\n",
        "row_R.info()"
      ],
      "execution_count": 264,
      "outputs": [
        {
          "output_type": "stream",
          "text": [
            "Deceased info:\n",
            " \n",
            "<class 'pandas.core.frame.DataFrame'>\n",
            "Int64Index: 45 entries, 72 to 16136\n",
            "Data columns (total 6 columns):\n",
            " #   Column       Non-Null Count  Dtype  \n",
            "---  ------       --------------  -----  \n",
            " 0   patientId    45 non-null     int64  \n",
            " 1   reportedOn   45 non-null     object \n",
            " 2   ageEstimate  45 non-null     float64\n",
            " 3   gender       43 non-null     object \n",
            " 4   state        45 non-null     object \n",
            " 5   status       45 non-null     object \n",
            "dtypes: float64(1), int64(1), object(4)\n",
            "memory usage: 2.5+ KB\n",
            "\n",
            "Hospitalized info:\n",
            " \n",
            "<class 'pandas.core.frame.DataFrame'>\n",
            "Int64Index: 27663 entries, 18 to 27890\n",
            "Data columns (total 6 columns):\n",
            " #   Column       Non-Null Count  Dtype  \n",
            "---  ------       --------------  -----  \n",
            " 0   patientId    27663 non-null  int64  \n",
            " 1   reportedOn   27663 non-null  object \n",
            " 2   ageEstimate  27663 non-null  float64\n",
            " 3   gender       5146 non-null   object \n",
            " 4   state        27662 non-null  object \n",
            " 5   status       27663 non-null  object \n",
            "dtypes: float64(1), int64(1), object(4)\n",
            "memory usage: 1.5+ MB\n",
            "\n",
            "Recoveredinfo:\n",
            " \n",
            "<class 'pandas.core.frame.DataFrame'>\n",
            "Int64Index: 182 entries, 0 to 5477\n",
            "Data columns (total 6 columns):\n",
            " #   Column       Non-Null Count  Dtype  \n",
            "---  ------       --------------  -----  \n",
            " 0   patientId    182 non-null    int64  \n",
            " 1   reportedOn   182 non-null    object \n",
            " 2   ageEstimate  182 non-null    float64\n",
            " 3   gender       124 non-null    object \n",
            " 4   state        182 non-null    object \n",
            " 5   status       182 non-null    object \n",
            "dtypes: float64(1), int64(1), object(4)\n",
            "memory usage: 10.0+ KB\n"
          ],
          "name": "stdout"
        }
      ]
    },
    {
      "cell_type": "code",
      "metadata": {
        "id": "LRxniJrGU_wX",
        "outputId": "43385f34-ef4d-41b2-e01c-0521e9993ca0",
        "colab": {
          "base_uri": "https://localhost:8080/",
          "height": 168
        }
      },
      "source": [
        "final_data_deceased = row_D.to_csv('final_data_deceased.csv', index = True) \n",
        "print('\\nCSV String:\\n', final_data_deceased)\n",
        "final_data_hospitalized =  row_H.to_csv('final_data_hospitalized.csv', index = True) \n",
        "print('\\nCSV String:\\n', final_data_hospitalized)\n",
        "final_data_recovered = row_D.to_csv('final_data_recovered.csv', index = True) \n",
        "print('\\nCSV String:\\n', final_data_recovered)"
      ],
      "execution_count": 265,
      "outputs": [
        {
          "output_type": "stream",
          "text": [
            "\n",
            "CSV String:\n",
            " None\n",
            "\n",
            "CSV String:\n",
            " None\n",
            "\n",
            "CSV String:\n",
            " None\n"
          ],
          "name": "stdout"
        }
      ]
    },
    {
      "cell_type": "code",
      "metadata": {
        "id": "rMnR7sPHWnsh"
      },
      "source": [
        ""
      ],
      "execution_count": null,
      "outputs": []
    }
  ]
}